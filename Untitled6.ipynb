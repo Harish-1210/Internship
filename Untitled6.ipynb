{
 "cells": [
  {
   "cell_type": "code",
   "execution_count": 1,
   "id": "67ff679d-fcd6-4ab4-a1c9-7e2d62b17ebc",
   "metadata": {},
   "outputs": [
    {
     "name": "stdout",
     "output_type": "stream",
     "text": [
      "harishajay\n",
      "gokulajay\n"
     ]
    }
   ],
   "source": [
    "def my_function(fname):\n",
    "   print(fname+\"ajay\")\n",
    "my_function(\"harish\")\n",
    "my_function(\"gokul\")"
   ]
  },
  {
   "cell_type": "code",
   "execution_count": 9,
   "id": "27a292f2-fbce-45c2-ae31-2efa499fa205",
   "metadata": {},
   "outputs": [
    {
     "name": "stdout",
     "output_type": "stream",
     "text": [
      "('harish', 'ajay', 'gokul')\n",
      "gokul\n",
      "ajay\n"
     ]
    }
   ],
   "source": [
    "mytuple = (\"harish\", \"ajay\", \"gokul\")\n",
    "thistuple = (\"harish\", \"ajay\", \"gokul\")\n",
    "print(thistuple)\n",
    "print(thistuple[-1])    \n",
    "print(thistuple[1])     \n",
    "\n"
   ]
  },
  {
   "cell_type": "code",
   "execution_count": 1,
   "id": "de3a8c0b-b9f2-4ad9-a46e-e1d9525d2cf3",
   "metadata": {},
   "outputs": [
    {
     "name": "stdout",
     "output_type": "stream",
     "text": [
      "{'harish', 'jack'}\n",
      "{1, 3, 5, 7, 9}\n",
      "{False, True}\n"
     ]
    }
   ],
   "source": [
    "set1={\"harish\",\"jack\"}\n",
    "set2={1,5,7,9,3}\n",
    "set3={True,False,False}\n",
    "print(set1)\n",
    "print(set2)\n",
    "print(set3)"
   ]
  },
  {
   "cell_type": "code",
   "execution_count": 2,
   "id": "a1f3adb0-90ce-44dd-bd2a-299700272954",
   "metadata": {},
   "outputs": [
    {
     "name": "stdout",
     "output_type": "stream",
     "text": [
      "{'brand': 'kfc', 'model': 'dell', 'year': 2025}\n",
      "3\n"
     ]
    }
   ],
   "source": [
    "thisdict = {\n",
    "    \"brand\": \"kfc\",\n",
    "    \"model\": \"dell\",\n",
    "    \"year\": 2025  \n",
    "}\n",
    "\n",
    "print(thisdict)\n",
    "print(len(thisdict))\n"
   ]
  },
  {
   "cell_type": "code",
   "execution_count": 4,
   "id": "d959ddba-6939-4b30-acef-89abb4247e99",
   "metadata": {},
   "outputs": [
    {
     "name": "stdout",
     "output_type": "stream",
     "text": [
      "{1, 2, 3, 'b', 'arav', 'a', 'tom', 'jack', 'convey', 'sam', 'charles', 'c'}\n"
     ]
    }
   ],
   "source": [
    "set1 = {\"arav\", \"jack\", \"convey\"}\n",
    "set2 = {1, 2, 3}\n",
    "set3 = {\"a\", \"b\", \"c\"} \n",
    "set4 = {\"charles\", \"tom\", \"sam\"}  \n",
    "\n",
    "myset = set1.union(set2, set3, set4)  \n",
    "print(myset)\n"
   ]
  },
  {
   "cell_type": "code",
   "execution_count": 6,
   "id": "92ff9f36-a9c6-409f-9847-bb58384033c0",
   "metadata": {},
   "outputs": [
    {
     "name": "stdout",
     "output_type": "stream",
     "text": [
      "a is greater than b\n"
     ]
    }
   ],
   "source": [
    "a=199\n",
    "b=43\n",
    "if b>a:\n",
    "  print(\"b is greater than a\")\n",
    "elif a==b:\n",
    "  print(\"a and b are equal\")\n",
    "else:\n",
    "  print(\"a is greater than b\")"
   ]
  },
  {
   "cell_type": "code",
   "execution_count": 7,
   "id": "6eaf7f75-b1c6-4ad6-ac42-4044642f4712",
   "metadata": {},
   "outputs": [
    {
     "name": "stdout",
     "output_type": "stream",
     "text": [
      "a and b are equal\n"
     ]
    }
   ],
   "source": [
    "a=66\n",
    "b=66\n",
    "if b>a:\n",
    "  print(\"b is greater than a\")\n",
    "elif a==b:\n",
    "  print(\"a and b are equal\")"
   ]
  },
  {
   "cell_type": "code",
   "execution_count": 8,
   "id": "797e94a3-0f03-4baa-8a62-62624650b87d",
   "metadata": {},
   "outputs": [
    {
     "name": "stdout",
     "output_type": "stream",
     "text": [
      "jack\n",
      "23\n"
     ]
    }
   ],
   "source": [
    "class Person:\n",
    "  def __init__(self,name,age):\n",
    "    self.name=name\n",
    "    self.age=age\n",
    "p1=Person(\"jack\",23)\n",
    "print(p1.name)\n",
    "print(p1.age)"
   ]
  },
  {
   "cell_type": "code",
   "execution_count": 9,
   "id": "9731fa97-4513-48ba-8691-7afcf28c95a2",
   "metadata": {},
   "outputs": [
    {
     "name": "stdout",
     "output_type": "stream",
     "text": [
      "0\n",
      "1\n",
      "2\n",
      "3\n",
      "4\n",
      "5\n",
      "6\n",
      "7\n",
      "8\n",
      "9\n",
      "10\n",
      "11\n",
      "12\n",
      "13\n",
      "14\n",
      "15\n",
      "16\n",
      "17\n",
      "18\n",
      "19\n",
      "20\n",
      "21\n",
      "22\n"
     ]
    }
   ],
   "source": [
    "for x in range(23):\n",
    "  print(x)"
   ]
  },
  {
   "cell_type": "code",
   "execution_count": 14,
   "id": "c1f6fb78-6d9d-4f3f-99e2-4acd8ee863ed",
   "metadata": {},
   "outputs": [
    {
     "name": "stdout",
     "output_type": "stream",
     "text": [
      "1\n"
     ]
    }
   ],
   "source": [
    "for x in range(1,30,60):\n",
    "    print(x)\n",
    "    "
   ]
  },
  {
   "cell_type": "code",
   "execution_count": 17,
   "id": "152248b3-ebe5-4ec7-b807-f76c800e983d",
   "metadata": {},
   "outputs": [
    {
     "name": "stdout",
     "output_type": "stream",
     "text": [
      "white\n",
      "black\n"
     ]
    }
   ],
   "source": [
    "men = (\"white\", \"black\", \"brown\")\n",
    "\n",
    "for x in men:\n",
    "    print(x)\n",
    "    if x == \"black\":\n",
    "        break\n"
   ]
  },
  {
   "cell_type": "code",
   "execution_count": 18,
   "id": "558fde18-d829-495d-a25b-83669b4b5b39",
   "metadata": {},
   "outputs": [
    {
     "name": "stdout",
     "output_type": "stream",
     "text": [
      "{True, 2, 'priya', 'abi', 'janani'}\n",
      "('abi', 'janani', 'priya')\n"
     ]
    }
   ],
   "source": [
    "thisset={\"abi\",\"janani\",\"priya\",True,1,2}\n",
    "print(thisset)\n",
    "thisset=(\"abi\",\"janani\",\"priya\")\n",
    "print(thisset)"
   ]
  },
  {
   "cell_type": "code",
   "execution_count": 19,
   "id": "3380d09c-f7e2-42cb-b7c5-685fc5d4c899",
   "metadata": {},
   "outputs": [
    {
     "name": "stdout",
     "output_type": "stream",
     "text": [
      "Hello, World!\n",
      "Jello, World!\n",
      "['Hello', ' World!']\n"
     ]
    }
   ],
   "source": [
    "a=\"Hello, World!\"\n",
    "print(a.strip())\n",
    "print(a.replace(\"H\",\"J\"))\n",
    "print(a.split(\",\"))"
   ]
  },
  {
   "cell_type": "code",
   "execution_count": 20,
   "id": "f8f02772-2306-4d5d-9be9-c39b384e2d1a",
   "metadata": {},
   "outputs": [
    {
     "name": "stdout",
     "output_type": "stream",
     "text": [
      "1\n",
      "2\n",
      "3\n",
      "4\n",
      "5\n",
      "i is no longer less than 6\n"
     ]
    }
   ],
   "source": [
    "i=1\n",
    "while i<6:\n",
    "  print(i)\n",
    "  i+=1\n",
    "else:\n",
    "  print(\"i is no longer less than 6\")"
   ]
  },
  {
   "cell_type": "code",
   "execution_count": 21,
   "id": "47c6dc1d-97a9-48b2-b422-71184e173684",
   "metadata": {},
   "outputs": [
    {
     "name": "stdout",
     "output_type": "stream",
     "text": [
      "{'banana', 'apple', 'cherry'}\n"
     ]
    }
   ],
   "source": [
    "myset={\"apple\",\"banana\",\"cherry\"}\n",
    "thisset={\"apple\",\"banana\",\"cherry\"}\n",
    "print(thisset)"
   ]
  },
  {
   "cell_type": "code",
   "execution_count": 22,
   "id": "07954f59-033c-4be6-8312-b01922d8d0f7",
   "metadata": {},
   "outputs": [
    {
     "name": "stdout",
     "output_type": "stream",
     "text": [
      "banana\n",
      "mango\n",
      "['cherry', 'orange', 'kiwi']\n",
      "['apple', 'banana', 'cherry', 'orange']\n",
      "['orange', 'kiwi', 'melon']\n"
     ]
    }
   ],
   "source": [
    "thislist=list((\"apple\",\"banana\",\"cherry\",\"orange\",\"kiwi\",\"melon\",\"mango\"))\n",
    "print(thislist[1])\n",
    "print(thislist[-1])\n",
    "print(thislist[2:5])\n",
    "print(thislist[:4])\n",
    "print(thislist[-4:-1])"
   ]
  },
  {
   "cell_type": "code",
   "execution_count": 23,
   "id": "31f73ff7-0db7-4a94-adfb-3f0e970bdc53",
   "metadata": {},
   "outputs": [
    {
     "name": "stdout",
     "output_type": "stream",
     "text": [
      "['apple', 'banana', 'cherry']\n"
     ]
    }
   ],
   "source": [
    "mylist=[\"apple\",\"banana\",\"cherry\"]\n",
    "print(mylist)"
   ]
  },
  {
   "cell_type": "code",
   "execution_count": 24,
   "id": "8306a604-2a7a-4361-b036-0576208c81ce",
   "metadata": {},
   "outputs": [
    {
     "name": "stdout",
     "output_type": "stream",
     "text": [
      "['apple', 'banana', 'cherry']\n"
     ]
    }
   ],
   "source": [
    "thislist=[\"apple\",\"banana\",\"cherry\"]\n",
    "print(thislist)"
   ]
  },
  {
   "cell_type": "code",
   "execution_count": 25,
   "id": "b83eb41a-aafc-4f21-87be-f0ca68ef1013",
   "metadata": {},
   "outputs": [
    {
     "name": "stdout",
     "output_type": "stream",
     "text": [
      "['abi', 'puna', 'moni']\n",
      "[1, 5, 7, 9, 3]\n",
      "[True, False, False]\n"
     ]
    }
   ],
   "source": [
    "list1=[\"abi\",\"puna\",\"moni\"]\n",
    "list2=[1,5,7,9,3]\n",
    "list3=[True,False,False]\n",
    "print(list1)\n",
    "print(list2)\n",
    "print(list3)"
   ]
  },
  {
   "cell_type": "code",
   "execution_count": 26,
   "id": "639421ba-6d7e-41a5-85a0-d176ece59b84",
   "metadata": {},
   "outputs": [
    {
     "name": "stdout",
     "output_type": "stream",
     "text": [
      "True\n",
      "True\n"
     ]
    }
   ],
   "source": [
    "print(bool(\"Hello\"))\n",
    "print(bool(15))"
   ]
  },
  {
   "cell_type": "code",
   "execution_count": 27,
   "id": "fc83d3c6-5ff3-4a92-86d3-6568676ff4bf",
   "metadata": {},
   "outputs": [
    {
     "name": "stdout",
     "output_type": "stream",
     "text": [
      "Yes,'free'is present\n"
     ]
    }
   ],
   "source": [
    "txt=\"The best things in life are free!\"\n",
    "if\"free\"in txt:\n",
    "  print(\"Yes,'free'is present\")"
   ]
  },
  {
   "cell_type": "code",
   "execution_count": 28,
   "id": "71d8347b-1f81-4a7c-b838-b4e014584423",
   "metadata": {},
   "outputs": [
    {
     "name": "stdout",
     "output_type": "stream",
     "text": [
      "<class 'complex'>\n",
      "<class 'complex'>\n",
      "<class 'complex'>\n"
     ]
    }
   ],
   "source": [
    "x=3+5j\n",
    "y=5j\n",
    "z=-5j\n",
    "print(type(x))\n",
    "print(type(y))\n",
    "print(type(z))"
   ]
  },
  {
   "cell_type": "code",
   "execution_count": null,
   "id": "13e7f452-6637-4317-8ebf-4dfe3e153f57",
   "metadata": {},
   "outputs": [],
   "source": []
  }
 ],
 "metadata": {
  "kernelspec": {
   "display_name": "Python 3 (ipykernel)",
   "language": "python",
   "name": "python3"
  },
  "language_info": {
   "codemirror_mode": {
    "name": "ipython",
    "version": 3
   },
   "file_extension": ".py",
   "mimetype": "text/x-python",
   "name": "python",
   "nbconvert_exporter": "python",
   "pygments_lexer": "ipython3",
   "version": "3.12.7"
  }
 },
 "nbformat": 4,
 "nbformat_minor": 5
}
